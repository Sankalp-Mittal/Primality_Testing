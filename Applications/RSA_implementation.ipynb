{
  "nbformat": 4,
  "nbformat_minor": 0,
  "metadata": {
    "colab": {
      "provenance": []
    },
    "kernelspec": {
      "name": "python3",
      "display_name": "Python 3"
    },
    "language_info": {
      "name": "python"
    }
  },
  "cells": [
    {
      "cell_type": "markdown",
      "source": [
        "# RSA Crytography\n",
        "RSA stands for Rivest–Shamir–Adleman it is an algorithm developed for public key crytography and is one of the most widely used in internet encryption. More importantly for us this is one of the if not the most important usage of primality testing in modern day computing and it is used almost daily by most of the world. Even soething as simple as sending a WhatsApp text uses RSA. Indeed modern day encryption would almost have been impossible to think about without this algorithm. Below is a small sample implementation of the RSA algorithm for illustrative purposes."
      ],
      "metadata": {
        "id": "G6U1jCQ6GCAp"
      }
    },
    {
      "cell_type": "code",
      "execution_count": null,
      "metadata": {
        "id": "pP_iBwkSEjqZ"
      },
      "outputs": [],
      "source": [
        "import random\n",
        "import math"
      ]
    },
    {
      "cell_type": "markdown",
      "source": [
        "Below is the implementation of the Miller Rabin Primality test in python"
      ],
      "metadata": {
        "id": "TpkbRLoXFACm"
      }
    },
    {
      "cell_type": "code",
      "source": [
        "def is_prime(n, k=5):  # Miller-Rabin primality test\n",
        "    if n <= 1:\n",
        "        return False\n",
        "    if n <= 3:\n",
        "        return True\n",
        "    if n % 2 == 0:\n",
        "        return False\n",
        "\n",
        "    r, d = 0, n - 1\n",
        "    while d % 2 == 0: # n-1 = 2^r * d\n",
        "        r += 1\n",
        "        d //= 2\n",
        "\n",
        "    for _ in range(k):\n",
        "        a = random.randint(2, n - 2)\n",
        "        x = pow(a, d, n)\n",
        "        if x == 1 or x == n - 1:\n",
        "            continue\n",
        "\n",
        "        for _ in range(r - 1):\n",
        "            x = pow(x, 2, n)\n",
        "            if x == n - 1:\n",
        "                break\n",
        "        else:\n",
        "            return False\n",
        "    return True"
      ],
      "metadata": {
        "id": "Z0zz26RnE9Ax"
      },
      "execution_count": null,
      "outputs": []
    },
    {
      "cell_type": "markdown",
      "source": [
        "We generate random primes this is efficient as the density of primes is high so we should get a prime with not a lot of trials"
      ],
      "metadata": {
        "id": "ITt4HpHMFPWJ"
      }
    },
    {
      "cell_type": "code",
      "source": [
        "def generate_prime(bits=512):\n",
        "    while True:\n",
        "        num = random.getrandbits(bits)\n",
        "        num |= (1 << bits - 1) | 1  # Ensure it's odd and has correct bit length\n",
        "        if is_prime(num):\n",
        "            return num"
      ],
      "metadata": {
        "id": "cB_yGtGeFMZ9"
      },
      "execution_count": null,
      "outputs": []
    },
    {
      "cell_type": "markdown",
      "source": [
        "These are some helper functions to be used in RSA"
      ],
      "metadata": {
        "id": "Ag952_6BFdAE"
      }
    },
    {
      "cell_type": "code",
      "source": [
        "def gcd(a, b):\n",
        "    while b:\n",
        "        a, b = b, a % b\n",
        "    return a\n",
        "\n",
        "def mod_inverse(e, phi):\n",
        "    g, x, y = extended_gcd(e, phi)\n",
        "    if g != 1:\n",
        "        raise ValueError(\"Modular inverse does not exist\")\n",
        "    else:\n",
        "        return x % phi\n",
        "\n",
        "def extended_gcd(a, b):\n",
        "    if a == 0:\n",
        "        return b, 0, 1\n",
        "    g, x1, y1 = extended_gcd(b % a, a)\n",
        "    x = y1 - (b // a) * x1\n",
        "    y = x1\n",
        "    return g, x, y"
      ],
      "metadata": {
        "id": "UVRaSkb1FZPj"
      },
      "execution_count": null,
      "outputs": []
    },
    {
      "cell_type": "markdown",
      "source": [
        "Below is the main implementation of RSA"
      ],
      "metadata": {
        "id": "-ShD4qE-Fp87"
      }
    },
    {
      "cell_type": "code",
      "source": [
        "def generate_keys(bits=512):\n",
        "    p = generate_prime(bits)\n",
        "    q = generate_prime(bits)\n",
        "    n = p * q\n",
        "    phi = (p - 1) * (q - 1)\n",
        "\n",
        "    e = 65537  # Common choice for e\n",
        "    while gcd(e, phi) != 1:\n",
        "        e = random.randint(2, phi - 1)\n",
        "\n",
        "    d = mod_inverse(e, phi)\n",
        "    return ((e, n), (d, n))\n"
      ],
      "metadata": {
        "id": "6mB6mJo7FhMA"
      },
      "execution_count": null,
      "outputs": []
    },
    {
      "cell_type": "code",
      "source": [
        "def encrypt(plaintext, public_key):\n",
        "    e, n = public_key\n",
        "    ciphertext = [pow(ord(char), e, n) for char in plaintext]\n",
        "    return ciphertext\n"
      ],
      "metadata": {
        "id": "Y5Hh6QGDFk-7"
      },
      "execution_count": null,
      "outputs": []
    },
    {
      "cell_type": "code",
      "source": [
        "def decrypt(ciphertext, private_key):\n",
        "    d, n = private_key\n",
        "    plaintext = ''.join(chr(pow(char, d, n)) for char in ciphertext)\n",
        "    return plaintext"
      ],
      "metadata": {
        "id": "HePqE69YFo_l"
      },
      "execution_count": null,
      "outputs": []
    },
    {
      "cell_type": "markdown",
      "source": [
        "The driver code"
      ],
      "metadata": {
        "id": "CXz6OLVuFwUn"
      }
    },
    {
      "cell_type": "code",
      "source": [
        "# Generate keys\n",
        "public_key, private_key = generate_keys()\n",
        "\n",
        "# Encrypt and decrypt a message\n",
        "message = \"Hello, RSA!\"\n",
        "cipher = encrypt(message, public_key)\n",
        "print(\"Encrypted:\", cipher)\n",
        "\n",
        "decrypted_message = decrypt(cipher, private_key)\n",
        "print(\"Decrypted:\", decrypted_message)\n"
      ],
      "metadata": {
        "colab": {
          "base_uri": "https://localhost:8080/"
        },
        "id": "yqEbpTGZFt4z",
        "outputId": "cda210fb-1686-45c1-f13f-5362395f5790"
      },
      "execution_count": null,
      "outputs": [
        {
          "output_type": "stream",
          "name": "stdout",
          "text": [
            "Encrypted: [15272224199809811611717655990470871355036590977950148183282929048339003619879757694688571113475724585677980755436897502894122385431437012242939737131481510161776958453308045104008838404589342766621545696213684423545458259703682707319006670548675722111726101457454628369886994400922833515599117411591282619480, 36903211554936133537850056816312052362592925948640904486546688077106899667275897887073603113674490533622939635812309925970994162063795564086110395526585634273194882957069559825779273506596957682113781106055577576723315244251859940656838846248002505387724745541456453224109127696326706285480263025376655711597, 1875584327398696103371129736500593117959962371076316286724190852132022491730168931080720505893310007598287032755958528159967497103462129559968498322502332525806520336637399226506081073858342839440968226524308794428730187496320554003339596530468584601528843919203596139708304569019563479001720242876901198730, 1875584327398696103371129736500593117959962371076316286724190852132022491730168931080720505893310007598287032755958528159967497103462129559968498322502332525806520336637399226506081073858342839440968226524308794428730187496320554003339596530468584601528843919203596139708304569019563479001720242876901198730, 65376331906983281579931289713549487805672509574831958054568526631818150607189274771080828293005730552995070461299780521429438796722977577752676546576582618285428383786527078637533453944069034629091544985010005077198111451238705320635231610332022904427466448911491287207437146540630010615797140446387188076559, 13645675038978753659966766084304048481150675970448985103057640594792943224008733363798971951198189833330666192100236900745804140929994000523126104602608145535162915583691050508770794123421137253174359978395016164893559758158949362877943640699279781560663715341992882938936539358286394171932486653548898890686, 16318123813013424264978684356403123588338676981641893039080495109523363854381687794322915340359496640218619492190084127924911146307104019534671293421369786288190122928281809841080715672064192648231894914087419253395163198986573789339427544606680836346293198853239623883892241046191262800759924904927093630586, 56026139494077875117360706945398441473440644181220960496656478255239924347779778425354364411244302592194239597974709859945834652151679070261557137659928522317265101621430068689795803201108978565093516876835379072645116594198813250048838396042128244042058007469657170707906732548889690702151769657704837087261, 55926741208346304715684694747392114817002574596785886471373413695537448439503229959512021462887279538898769085842102416263197776680527891077149503308183644746386312280272751464396307354326680858380246204847869495460194287721216785603829955567938586424920281547917258676652957338506894096366955579252474448796, 46549855614895383462160275306090481982620609457181227248844821871422489043618255405208312632826853930180363054351353018213886573231969450952779257438328084064645747635438571581345939504414085050179351402243457529654732877662523278563402384554945815753988264015125661051527875798184853746555864826554763963761, 40490616052757287483900365983946797563890544758405421247940256393933134051514309769786840448766204971082457611958537106640143708171150126759670312172625013815591006047378864329667031795545979847242638628353831354451052949116277510375403667713995379856385039486375090593065129181655289637350224722700343344865]\n",
            "Decrypted: Hello, RSA!\n"
          ]
        }
      ]
    },
    {
      "cell_type": "markdown",
      "source": [
        "As can be seen that the encrypted code is really random and is almost impossible to decrypt."
      ],
      "metadata": {
        "id": "xua0gvKOF1bk"
      }
    }
  ]
}